{
 "cells": [
  {
   "cell_type": "code",
   "execution_count": 1,
   "metadata": {
    "id": "XJBuUC24w1Q-"
   },
   "outputs": [],
   "source": [
    "!apt-get install openjdk-8-jdk-headless -qq > /dev/null\n",
    "!wget -q https://archive.apache.org/dist/spark/spark-3.0.1/spark-3.0.1-bin-hadoop2.7.tgz\n",
    "!tar xf spark-3.0.1-bin-hadoop2.7.tgz\n",
    "!pip install -q findspark\n",
    "import os\n",
    "os.environ[\"JAVA_HOME\"] = \"/usr/lib/jvm/java-8-openjdk-amd64\"\n",
    "os.environ[\"SPARK_HOME\"] = \"/content/spark-3.0.1-bin-hadoop2.7\"\n",
    "import findspark\n",
    "findspark.init()\n",
    "from pyspark.sql import SparkSession\n",
    "\n",
    "spark = SparkSession.builder\\\n",
    "        .master(\"local\")\\\n",
    "        .appName(\"Colab\")\\\n",
    "        .config('spark.ui.port', '4050')\\\n",
    "        .getOrCreate()"
   ]
  },
  {
   "cell_type": "code",
   "execution_count": 2,
   "metadata": {
    "colab": {
     "base_uri": "https://localhost:8080/",
     "height": 221
    },
    "id": "VtaWbWYgxLSl",
    "outputId": "66286bb1-7c66-4da8-b0db-4b5df21c715b"
   },
   "outputs": [
    {
     "data": {
      "text/html": [
       "\n",
       "            <div>\n",
       "                <p><b>SparkSession - in-memory</b></p>\n",
       "                \n",
       "        <div>\n",
       "            <p><b>SparkContext</b></p>\n",
       "\n",
       "            <p><a href=\"http://ee9f7a3413de:4050\">Spark UI</a></p>\n",
       "\n",
       "            <dl>\n",
       "              <dt>Version</dt>\n",
       "                <dd><code>v3.0.1</code></dd>\n",
       "              <dt>Master</dt>\n",
       "                <dd><code>local</code></dd>\n",
       "              <dt>AppName</dt>\n",
       "                <dd><code>Colab</code></dd>\n",
       "            </dl>\n",
       "        </div>\n",
       "        \n",
       "            </div>\n",
       "        "
      ],
      "text/plain": [
       "<pyspark.sql.session.SparkSession at 0x7f9661b96590>"
      ]
     },
     "execution_count": 2,
     "metadata": {},
     "output_type": "execute_result"
    }
   ],
   "source": [
    "spark"
   ]
  },
  {
   "cell_type": "code",
   "execution_count": 2,
   "metadata": {
    "id": "KZyplqJ11Kth"
   },
   "outputs": [],
   "source": []
  },
  {
   "cell_type": "markdown",
   "metadata": {
    "id": "zCmfuEED1JpV"
   },
   "source": [
    "### **Zadanie 1**"
   ]
  },
  {
   "cell_type": "code",
   "execution_count": 3,
   "metadata": {
    "id": "gnxlTpCnxvop"
   },
   "outputs": [],
   "source": [
    "sc = spark.sparkContext"
   ]
  },
  {
   "cell_type": "code",
   "execution_count": 4,
   "metadata": {
    "id": "ulrCDMLVyTil"
   },
   "outputs": [],
   "source": [
    "def f(x):\n",
    "  return x**2 + 1\n",
    "\n",
    "x_min = 0\n",
    "x_max = 2\n",
    "y_min = f(x_min)\n",
    "y_max = f(x_max)"
   ]
  },
  {
   "cell_type": "code",
   "execution_count": 5,
   "metadata": {
    "id": "VGif5q-6yvwn"
   },
   "outputs": [],
   "source": [
    "import random\n",
    "\n",
    "data = []\n",
    "\n",
    "data_length = 1000000\n",
    "\n",
    "for i in range(data_length):\n",
    "  data.append((random.uniform(x_min, x_max), random.uniform(y_min, y_max)))\n"
   ]
  },
  {
   "cell_type": "code",
   "execution_count": 6,
   "metadata": {
    "colab": {
     "base_uri": "https://localhost:8080/"
    },
    "id": "ch7oR229zQ2U",
    "outputId": "76ff1b57-22c0-478a-a8fe-ba926cd78841"
   },
   "outputs": [
    {
     "data": {
      "text/plain": [
       "4.6681919999999995"
      ]
     },
     "execution_count": 6,
     "metadata": {},
     "output_type": "execute_result"
    }
   ],
   "source": [
    "dist_data = sc.parallelize(data)\n",
    "\n",
    "def is_under_f(d):\n",
    "  x = d[0]\n",
    "  y = d[1]\n",
    "  return f(x) > y\n",
    "\n",
    "number_under_f = dist_data.map(is_under_f).reduce(lambda a,b: a + b)\n",
    "\n",
    "(number_under_f / data_length) * (x_max - x_min) * (y_max - y_min) + 2"
   ]
  },
  {
   "cell_type": "code",
   "execution_count": 7,
   "metadata": {
    "id": "BIC-vOGN9OQ-"
   },
   "outputs": [],
   "source": [
    "spark.stop()"
   ]
  },
  {
   "cell_type": "markdown",
   "metadata": {
    "id": "9K2WdqTs1Pzs"
   },
   "source": [
    "### **Zadanie 2**"
   ]
  },
  {
   "cell_type": "code",
   "execution_count": 15,
   "metadata": {
    "id": "2udIHYDs9Ru9"
   },
   "outputs": [],
   "source": [
    "spark = SparkSession.builder.getOrCreate()\n",
    "        \n",
    "sc = spark.sparkContext"
   ]
  },
  {
   "cell_type": "code",
   "execution_count": 16,
   "metadata": {
    "id": "FguGNiJ72uy5"
   },
   "outputs": [],
   "source": [
    "import re\n",
    "\n",
    "communist = sc.textFile(\"the_communist_manifesto.txt\")\n",
    "bible = sc.textFile(\"the_king_james_bible.txt\")\n"
   ]
  },
  {
   "cell_type": "code",
   "execution_count": 10,
   "metadata": {
    "id": "xVgievGb4L7T"
   },
   "outputs": [],
   "source": [
    "communist_tokenized = sc.parallelize(communist.map(lambda x: list(filter(lambda t: t != '', x.split(' ')))).reduce(lambda a, b: a + b))\n",
    "communist_tokenized = communist_tokenized.map(lambda x: re.sub('[^A-Za-z]+', '', x).lower())"
   ]
  },
  {
   "cell_type": "code",
   "execution_count": null,
   "metadata": {
    "id": "1u8ieJxh4XEM"
   },
   "outputs": [],
   "source": [
    "bible_tokenized = sc.parallelize(bible.map(lambda x: list(filter(lambda t: t != '', x.split(' ')))).reduce(lambda a, b: a + b))\n",
    "bible_tokenized = bible_tokenized.map(lambda x: re.sub('[^A-Za-z]+', '', x).lower())"
   ]
  },
  {
   "cell_type": "code",
   "execution_count": 12,
   "metadata": {
    "colab": {
     "base_uri": "https://localhost:8080/"
    },
    "id": "9WRNkIl439Bq",
    "outputId": "bc6c02d8-0f9a-4908-d3b2-9e32ac244174"
   },
   "outputs": [
    {
     "data": {
      "text/plain": [
       "[('the', 1137),\n",
       " ('of', 779),\n",
       " ('and', 344),\n",
       " ('in', 287),\n",
       " ('to', 262),\n",
       " ('a', 163),\n",
       " ('is', 135),\n",
       " ('that', 125),\n",
       " ('by', 112),\n",
       " ('it', 99),\n",
       " ('with', 99),\n",
       " ('bourgeois', 95),\n",
       " ('all', 94),\n",
       " ('class', 91),\n",
       " ('bourgeoisie', 91),\n",
       " ('as', 83),\n",
       " ('they', 81),\n",
       " ('for', 79),\n",
       " ('its', 78),\n",
       " ('their', 75)]"
      ]
     },
     "execution_count": 12,
     "metadata": {},
     "output_type": "execute_result"
    }
   ],
   "source": [
    "communist_tokenized.map(lambda x: (x, 1)).reduceByKey(lambda a, b: a + b).takeOrdered(20, lambda x: -x[1])"
   ]
  },
  {
   "cell_type": "code",
   "execution_count": 13,
   "metadata": {
    "id": "o7_eDHxZ9vRP"
   },
   "outputs": [],
   "source": [
    "spark.stop()"
   ]
  },
  {
   "cell_type": "code",
   "execution_count": 20,
   "metadata": {
    "colab": {
     "base_uri": "https://localhost:8080/"
    },
    "id": "IKMP2HjO_tlU",
    "outputId": "11eab538-8399-4e66-b63a-48a9655b07b2"
   },
   "outputs": [
    {
     "data": {
      "text/plain": [
       "1487"
      ]
     },
     "execution_count": 20,
     "metadata": {},
     "output_type": "execute_result"
    }
   ],
   "source": [
    "communist.map(lambda x: 1).reduce(lambda a,b: a + b)"
   ]
  },
  {
   "cell_type": "code",
   "execution_count": 21,
   "metadata": {
    "colab": {
     "base_uri": "https://localhost:8080/"
    },
    "id": "xvg9xGnnAA9j",
    "outputId": "b640c9b7-dc3c-4445-cbb7-43eec717d3fe"
   },
   "outputs": [
    {
     "data": {
      "text/plain": [
       "99817"
      ]
     },
     "execution_count": 21,
     "metadata": {},
     "output_type": "execute_result"
    }
   ],
   "source": [
    "bible.map(lambda x: 1).reduce(lambda a,b: a + b)"
   ]
  }
 ],
 "metadata": {
  "colab": {
   "name": "Untitled0.ipynb",
   "provenance": []
  },
  "kernelspec": {
   "display_name": "Python 3 (ipykernel)",
   "language": "python",
   "name": "python3"
  },
  "language_info": {
   "codemirror_mode": {
    "name": "ipython",
    "version": 3
   },
   "file_extension": ".py",
   "mimetype": "text/x-python",
   "name": "python",
   "nbconvert_exporter": "python",
   "pygments_lexer": "ipython3",
   "version": "3.8.12"
  }
 },
 "nbformat": 4,
 "nbformat_minor": 1
}
